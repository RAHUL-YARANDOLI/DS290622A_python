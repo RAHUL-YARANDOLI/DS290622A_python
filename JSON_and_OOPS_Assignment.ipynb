{
 "cells": [
  {
   "cell_type": "markdown",
   "id": "eeb68e70",
   "metadata": {},
   "source": [
    "#1. Create a JSON file (employee.json) containing employee information of minimum 5 employees. Each employee information consists of Name, DB, Height, City, State. Write a python program that reads this information from the JSON file and saves the information into a list of objects of Employee class. Finally print the list of the Employee objects."
   ]
  },
  {
   "cell_type": "code",
   "execution_count": 24,
   "id": "2b20e208",
   "metadata": {},
   "outputs": [
    {
     "name": "stdout",
     "output_type": "stream",
     "text": [
      "Name: Raghu\n",
      "DOB: 1990-05-15\n",
      "Height: 175 cm\n",
      "City: Bengalore\n",
      "State: KA\n",
      "\n",
      "Name: Jane Smith\n",
      "DOB: 1988-03-20\n",
      "Height: 162 cm\n",
      "City: Los Angeles\n",
      "State: CA\n",
      "\n",
      "Name: Johnson\n",
      "DOB: 1995-09-10\n",
      "Height: 180 cm\n",
      "City: Chicago\n",
      "State: IL\n",
      "\n",
      "Name: Alice\n",
      "DOB: 1992-12-05\n",
      "Height: 168 cm\n",
      "City: Houston\n",
      "State: TX\n",
      "\n",
      "Name: David\n",
      "DOB: 1987-07-25\n",
      "Height: 170 cm\n",
      "City: San Francisco\n",
      "State: US\n",
      "\n"
     ]
    }
   ],
   "source": [
    "import json\n",
    "\n",
    "class Employee:\n",
    "    def __init__(self,name,dob,height,city,state):\n",
    "        self.name=name\n",
    "        self.dob=dob\n",
    "        self.height=height\n",
    "        self.city=city\n",
    "        self.state=state\n",
    "\n",
    "with open('employee.json','r') as file:\n",
    "    employee_data=json.load(file)\n",
    "\n",
    "employee_list=[]\n",
    "for data in employee_data:\n",
    "    employee=Employee(\n",
    "        name=data['Name'],\n",
    "        dob=data['DOB'],\n",
    "        height=data['Height'],\n",
    "        city=data['City'],\n",
    "        state=data['State']\n",
    "    )\n",
    "    employee_list.append(employee)\n",
    "\n",
    "\n",
    "for employee in employee_list:\n",
    "    print(f\"Name: {employee.name}\")\n",
    "    print(f\"DOB: {employee.dob}\")\n",
    "    print(f\"Height: {employee.height} cm\")\n",
    "    print(f\"City: {employee.city}\")\n",
    "    print(f\"State: {employee.state}\")\n",
    "    print()\n"
   ]
  },
  {
   "cell_type": "markdown",
   "id": "9c7245e4",
   "metadata": {},
   "source": [
    " #2. Create a dictionary of any 7 Indian states and their capitals. Write this into a JSON file."
   ]
  },
  {
   "cell_type": "code",
   "execution_count": 25,
   "id": "8274bb10",
   "metadata": {},
   "outputs": [
    {
     "name": "stdout",
     "output_type": "stream",
     "text": [
      "Data has been written to indian_states.json\n"
     ]
    }
   ],
   "source": [
    "indian_states = {\n",
    "    \"Andhra Pradesh\": \"Amaravati\",\n",
    "    \"Karnataka\": \"Bengaluru\",\n",
    "    \"Tamil Nadu\": \"Chennai\",\n",
    "    \"Maharashtra\": \"Mumbai\",\n",
    "    \"Delhi\": \"New Delhi\",\n",
    "    \"Rajasthan\": \"Jaipur\",\n",
    "    \"Kerala\": \"Thiruvananthapuram\"\n",
    "}\n",
    "\n",
    "import json\n",
    "with open('indian_states.json','w') as file:\n",
    "    json.dump(indian_states,file)\n",
    "\n",
    "print(\"Data has been written to indian_states.json\")\n"
   ]
  },
  {
   "cell_type": "markdown",
   "id": "c210b2d5",
   "metadata": {},
   "source": [
    "ASSIGNMENT--2\n",
    "\n",
    "1. Create a class named ‘Dog’. It should have a constructor which accepts its name, age and coat color. You must perform the following operations:\n",
    "\n",
    "🔴 a. It should have a function ‘description()’ which prints the name and age of the dog.\n",
    "🔴 b. It should have a function ‘get_info()’ which prints the coat color of the dog.\n",
    "🔴 c. Create child classes ‘JackRussellTerrier’ and ‘Bulldog’ which is inherited from the class ‘Dog’. It should have at least two methods of its own.\n",
    "🔴 d. Create objects and implement the above functionalities."
   ]
  },
  {
   "cell_type": "code",
   "execution_count": 26,
   "id": "9870965d",
   "metadata": {},
   "outputs": [
    {
     "name": "stdout",
     "output_type": "stream",
     "text": [
      "Dog 1:\n",
      "Name:Buddy\n",
      "Age:3\n",
      "Coat Color:White and Brown\n",
      "Buddy is barking loudly!\n",
      "Buddy is playing fetch!\n",
      "\n",
      "Dog 2:\n",
      "Name:Spike\n",
      "Age:5\n",
      "Coat Color:Brown\n",
      "Spike is snoring loudly!\n",
      "Spike is guarding the house!\n"
     ]
    }
   ],
   "source": [
    "class Dog:\n",
    "    def __init__(self,name,age,coat_color):\n",
    "        self.name=name\n",
    "        self.age=age\n",
    "        self.coat_color=coat_color\n",
    "\n",
    "    def description(self):\n",
    "        print(f\"Name:{self.name}\")\n",
    "        print(f\"Age:{self.age}\")\n",
    "\n",
    "    def get_info(self):\n",
    "        print(f\"Coat Color:{self.coat_color}\")\n",
    "\n",
    "class JackRussellTerrier(Dog):\n",
    "    def __init__(self,name,age,coat_color,energy_level):\n",
    "        super().__init__(name,age,coat_color)\n",
    "        self.energy_level=energy_level\n",
    "\n",
    "    def bark(self):\n",
    "        print(f\"{self.name} is barking loudly!\")\n",
    "\n",
    "    def play_fetch(self):\n",
    "        print(f\"{self.name} is playing fetch!\")\n",
    "\n",
    "class Bulldog(Dog):\n",
    "    def __init__(self,name,age,coat_color,weight):\n",
    "        super().__init__(name,age,coat_color)\n",
    "        self.weight=weight\n",
    "\n",
    "    def snore(self):\n",
    "        print(f\"{self.name} is snoring loudly!\")\n",
    "\n",
    "    def guard_house(self):\n",
    "        print(f\"{self.name} is guarding the house!\")\n",
    "dog1=JackRussellTerrier(\"Buddy\",3,\"White and Brown\",\"High\")\n",
    "dog2=Bulldog(\"Spike\",5,\"Brown\",\"Medium\")\n",
    "\n",
    "print(\"Dog 1:\")\n",
    "dog1.description()\n",
    "dog1.get_info()\n",
    "dog1.bark()\n",
    "dog1.play_fetch()\n",
    "\n",
    "print(\"\\nDog 2:\")\n",
    "dog2.description()\n",
    "dog2.get_info()\n",
    "dog2.snore()\n",
    "dog2.guard_house()\n"
   ]
  },
  {
   "cell_type": "code",
   "execution_count": null,
   "id": "81091431",
   "metadata": {},
   "outputs": [],
   "source": []
  }
 ],
 "metadata": {
  "kernelspec": {
   "display_name": "Python 3 (ipykernel)",
   "language": "python",
   "name": "python3"
  },
  "language_info": {
   "codemirror_mode": {
    "name": "ipython",
    "version": 3
   },
   "file_extension": ".py",
   "mimetype": "text/x-python",
   "name": "python",
   "nbconvert_exporter": "python",
   "pygments_lexer": "ipython3",
   "version": "3.9.12"
  }
 },
 "nbformat": 4,
 "nbformat_minor": 5
}
