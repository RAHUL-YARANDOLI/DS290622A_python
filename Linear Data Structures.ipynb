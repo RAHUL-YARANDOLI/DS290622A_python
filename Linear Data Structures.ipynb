{
 "cells": [
  {
   "cell_type": "markdown",
   "id": "5e39f75a",
   "metadata": {},
   "source": [
    "Q1. Write a program to find all pairs of an integer array whose sum is equal to a given number?"
   ]
  },
  {
   "cell_type": "code",
   "execution_count": 73,
   "id": "7d896aa4",
   "metadata": {},
   "outputs": [
    {
     "name": "stdout",
     "output_type": "stream",
     "text": [
      "Array= [5, 2, 3, 4, 1, 6, 7]\n",
      "Pairs whose sum is : 7\n",
      "5 2\n",
      "3 4\n",
      "1 6\n"
     ]
    }
   ],
   "source": [
    "def find(array,len,summ):\n",
    "    print(\"Pairs whose sum is :\",summ)\n",
    "    for i in range(len):\n",
    "        for j in range(i,len):\n",
    "            if (array[i]+array[j])==summ:\n",
    "                print(array[i],array[j])\n",
    "\n",
    "array = [5,2,3,4,1,6,7]\n",
    "summ = 7\n",
    "print(\"Array=\",array)\n",
    "find(array,len(array),summ)"
   ]
  },
  {
   "cell_type": "markdown",
   "id": "7331cf9c",
   "metadata": {},
   "source": [
    "Q2. Write a program to reverse an array in place? In place means you cannot create a new array. You have to update the original array."
   ]
  },
  {
   "cell_type": "code",
   "execution_count": 74,
   "id": "37de3ad3",
   "metadata": {},
   "outputs": [
    {
     "name": "stdout",
     "output_type": "stream",
     "text": [
      "Original Array: [1, 2, 3, 4, 5]\n",
      "Reversed Array: [5, 4, 3, 2, 1]\n"
     ]
    }
   ],
   "source": [
    "def reverse_array(arr):\n",
    "    start = 0\n",
    "    end = len(arr)-1\n",
    "    while start<end:\n",
    "        arr[start], arr[end] = arr[end], arr[start]\n",
    "        start+= 1\n",
    "        end-= 1\n",
    "my_array=[1, 2, 3, 4, 5]\n",
    "print(\"Original Array:\",my_array)\n",
    "reverse_array(my_array)\n",
    "print(\"Reversed Array:\",my_array)\n"
   ]
  },
  {
   "cell_type": "markdown",
   "id": "f79277e0",
   "metadata": {},
   "source": [
    "Q3. Write a program to check if two strings are a rotation of each other?"
   ]
  },
  {
   "cell_type": "code",
   "execution_count": 75,
   "id": "ab98591b",
   "metadata": {},
   "outputs": [
    {
     "name": "stdout",
     "output_type": "stream",
     "text": [
      "helloeducative and educativehello are rotations of each other\n"
     ]
    }
   ],
   "source": [
    "def check(s1,s2):\n",
    "    if len(s1)!=len(s2): \n",
    "        return false\n",
    "    concat_str=s1+s1\n",
    "    return s2 in concat_str\n",
    "\n",
    "if __name__==\"__main__\":\n",
    "    s1 = \"helloeducative\"\n",
    "    s2 = \"educativehello\"\n",
    "    if(check(s1, s2)): print(\"{0} and {1} are rotations of each other\".format(s1, s2))"
   ]
  },
  {
   "cell_type": "markdown",
   "id": "3e4dbd99",
   "metadata": {},
   "source": [
    "Q4. Write a program to print the first non- repeated character from a string?"
   ]
  },
  {
   "cell_type": "code",
   "execution_count": 76,
   "id": "64f99fae",
   "metadata": {},
   "outputs": [
    {
     "name": "stdout",
     "output_type": "stream",
     "text": [
      "non-repeated character: g\n"
     ]
    }
   ],
   "source": [
    "def non_repeat(str1):\n",
    "    char_order=[]\n",
    "    ctr={}\n",
    "    for c in str1:\n",
    "        if c in ctr:\n",
    "            ctr[c]+=1\n",
    "        else:\n",
    "            ctr[c]=1\n",
    "            char_order.append(c)\n",
    "    for c in char_order:\n",
    "        if ctr[c]==1:\n",
    "            return c\n",
    "    return None\n",
    "\n",
    "str1=\"raghavendra\"\n",
    "print(\"non-repeated character:\",non_repeat(str1))"
   ]
  },
  {
   "cell_type": "markdown",
   "id": "232b7d95",
   "metadata": {},
   "source": [
    "Q5. Read about the Tower of Hanoi algorithm. Write a program to implement it."
   ]
  },
  {
   "cell_type": "code",
   "execution_count": 77,
   "id": "770f004c",
   "metadata": {},
   "outputs": [
    {
     "name": "stdout",
     "output_type": "stream",
     "text": [
      "Move disk 1 from source A to destination B\n",
      "Move disk 2 from source A to destination C\n",
      "Move disk 1 from source B to destination C\n",
      "Move disk 3 from source A to destination B\n",
      "Move disk 1 from source C to destination A\n",
      "Move disk 2 from source C to destination B\n",
      "Move disk 1 from source A to destination B\n",
      "Move disk 4 from source A to destination C\n",
      "Move disk 1 from source B to destination C\n",
      "Move disk 2 from source B to destination A\n",
      "Move disk 1 from source C to destination A\n",
      "Move disk 3 from source B to destination C\n",
      "Move disk 1 from source A to destination B\n",
      "Move disk 2 from source A to destination C\n",
      "Move disk 1 from source B to destination C\n"
     ]
    }
   ],
   "source": [
    "def tower_of_hanoi(n,source,auxiliary,destination):\n",
    "    if n == 1:\n",
    "        print(\"Move disk 1 from source\",source,\"to destination\",destination)\n",
    "        return\n",
    "    tower_of_hanoi(n - 1,source,destination,auxiliary)\n",
    "    print(\"Move disk\", n,\"from source\",source,\"to destination\",destination)\n",
    "    tower_of_hanoi(n - 1,auxiliary,source,destination)\n",
    "n = 4 \n",
    "tower_of_hanoi(n,'A','B','C')"
   ]
  },
  {
   "cell_type": "markdown",
   "id": "3d72c008",
   "metadata": {},
   "source": [
    "Q6. Read about infix, prefix, and postfix expressions. Write a program to convert postfix to prefix expression.\n"
   ]
  },
  {
   "cell_type": "code",
   "execution_count": 78,
   "id": "48856db0",
   "metadata": {},
   "outputs": [
    {
     "name": "stdout",
     "output_type": "stream",
     "text": [
      "Prefix expression: - + 5 * 3 4 7\n"
     ]
    }
   ],
   "source": [
    "  def postfix_to_prefix(expression):\n",
    "    stack = []\n",
    "    operators = set(['+','-','*','/','^'])\n",
    "\n",
    "    for token in expression.split():\n",
    "        if token not in operators:\n",
    "            stack.append(token)\n",
    "        else:\n",
    "            operand2=stack.pop()\n",
    "            operand1=stack.pop()\n",
    "            stack.append(token + ' '+ operand1 + ' '+ operand2)\n",
    "    return stack.pop()\n",
    "postfix_expression=\"5 3 4 * + 7 -\"\n",
    "prefix_expression=postfix_to_prefix(postfix_expression)\n",
    "print(\"Prefix expression:\", prefix_expression)\n"
   ]
  },
  {
   "cell_type": "markdown",
   "id": "bfc0d231",
   "metadata": {},
   "source": [
    "Q7. Write a program to convert prefix expression to infix expression."
   ]
  },
  {
   "cell_type": "code",
   "execution_count": 79,
   "id": "7412778e",
   "metadata": {},
   "outputs": [
    {
     "name": "stdout",
     "output_type": "stream",
     "text": [
      "Infix expression: ((5*3)+(7-4))\n"
     ]
    }
   ],
   "source": [
    "def is_operator(char):\n",
    "    operators=set(['+', '-', '*', '/', '^'])\n",
    "    return char in operators\n",
    "\n",
    "def prefix_to_infix(expression):\n",
    "    stack=[]\n",
    "    for char in expression[::-1]:\n",
    "        if not is_operator(char):\n",
    "            stack.append(char)\n",
    "        else:\n",
    "            operand1=stack.pop()\n",
    "            operand2=stack.pop()\n",
    "            infix_expression=f'({operand1}{char}{operand2})'\n",
    "            stack.append(infix_expression)\n",
    "    return stack[0] if stack else \"\"\n",
    "\n",
    "prefix_expression=\"+*53-74\"\n",
    "infix_expression=prefix_to_infix(prefix_expression)\n",
    "print(\"Infix expression:\", infix_expression)\n"
   ]
  },
  {
   "cell_type": "markdown",
   "id": "129ff248",
   "metadata": {},
   "source": [
    "Q8. Write a program to check if all the brackets are closed in a given code snippet.\n"
   ]
  },
  {
   "cell_type": "code",
   "execution_count": 80,
   "id": "19ff8aa5",
   "metadata": {},
   "outputs": [
    {
     "name": "stdout",
     "output_type": "stream",
     "text": [
      "Brackets are Closed.\n"
     ]
    }
   ],
   "source": [
    "def brackets_closed(code):\n",
    "    stack = []\n",
    "    brackets = {'(': ')', '[': ']', '{': '}'}\n",
    "\n",
    "    for char in code:\n",
    "        if char in brackets.keys():\n",
    "            stack.append(char)\n",
    "        elif char in brackets.values():\n",
    "            if not stack or brackets[stack.pop()] != char:\n",
    "                return False\n",
    "\n",
    "    return not stack\n",
    "\n",
    "code_snippet = \"if (x > 5) { y = x * 2; }\"\n",
    "if brackets_closed(code_snippet):\n",
    "    print(\"Brackets are Closed.\")\n",
    "else:\n",
    "    print(\"Brackets are not Closed.\")\n"
   ]
  },
  {
   "cell_type": "markdown",
   "id": "597cf864",
   "metadata": {},
   "source": [
    "Q9. Write a program to reverse a stack."
   ]
  },
  {
   "cell_type": "code",
   "execution_count": 81,
   "id": "6b8da041",
   "metadata": {},
   "outputs": [
    {
     "name": "stdout",
     "output_type": "stream",
     "text": [
      "Original Stack\n",
      "5\n",
      "4\n",
      "3\n",
      "2\n",
      "1\n",
      "\n",
      "Stack after Reversing\n",
      "1\n",
      "2\n",
      "3\n",
      "4\n",
      "5\n"
     ]
    }
   ],
   "source": [
    "class Stack:\n",
    "\n",
    "    def __init__(self):\n",
    "        self.Elements = []\n",
    "        \n",
    "    def push(self, value):\n",
    "        self.Elements.append(value)\n",
    "    def pop(self):\n",
    "        return self.Elements.pop()\n",
    "    def empty(self):\n",
    "        return self.Elements == []\n",
    "    def show(self):\n",
    "        for value in reversed(self.Elements):\n",
    "            print(value)\n",
    "\n",
    "def BottomInsert(s, value):\n",
    "   \n",
    "    if s.empty():\n",
    "        s.push(value)\n",
    "    else:\n",
    "        popped = s.pop()\n",
    "        BottomInsert(s, value)\n",
    "        s.push(popped)\n",
    "def Reverse(s):\n",
    "    if s.empty():\n",
    "        pass\n",
    "    else:\n",
    "        popped = s.pop()\n",
    "        Reverse(s)\n",
    "        BottomInsert(s, popped)\n",
    "stk = Stack() \n",
    "stk.push(1)\n",
    "stk.push(2)\n",
    "stk.push(3)\n",
    "stk.push(4)\n",
    "stk.push(5)\n",
    "print(\"Original Stack\")\n",
    "stk.show()\n",
    "print(\"\\nStack after Reversing\")\n",
    "Reverse(stk)\n",
    "stk.show()"
   ]
  },
  {
   "cell_type": "markdown",
   "id": "e331b77f",
   "metadata": {},
   "source": [
    "Q10. Write a program to find the smallest number using a stack."
   ]
  },
  {
   "cell_type": "code",
   "execution_count": 82,
   "id": "89beda0a",
   "metadata": {},
   "outputs": [
    {
     "name": "stdout",
     "output_type": "stream",
     "text": [
      "Smallest number: 1\n",
      "Smallest number: 2\n"
     ]
    }
   ],
   "source": [
    "class MinStack:\n",
    "    def __init__(self):\n",
    "        self.stack = []\n",
    "        self.min_stack = []\n",
    "    def push(self,x):\n",
    "        self.stack.append(x)\n",
    "        if not self.min_stack or x<=self.min_stack[-1]:\n",
    "            self.min_stack.append(x)\n",
    "    def pop(self):\n",
    "        if self.stack:\n",
    "            if self.stack[-1]==self.min_stack[-1]:\n",
    "                self.min_stack.pop()\n",
    "            self.stack.pop()\n",
    "    def top(self):\n",
    "        if self.stack:\n",
    "            return self.stack[-1]\n",
    "        else:\n",
    "            return None\n",
    "    def get_min(self):\n",
    "        if self.min_stack:\n",
    "            return self.min_stack[-1]\n",
    "        else:\n",
    "            return None\n",
    "stack = MinStack()\n",
    "stack.push(3)\n",
    "stack.push(5)\n",
    "stack.push(2)\n",
    "stack.push(1)\n",
    "print(\"Smallest number:\", stack.get_min())\n",
    "stack.pop()\n",
    "print(\"Smallest number:\", stack.get_min())"
   ]
  }
 ],
 "metadata": {
  "kernelspec": {
   "display_name": "Python 3 (ipykernel)",
   "language": "python",
   "name": "python3"
  },
  "language_info": {
   "codemirror_mode": {
    "name": "ipython",
    "version": 3
   },
   "file_extension": ".py",
   "mimetype": "text/x-python",
   "name": "python",
   "nbconvert_exporter": "python",
   "pygments_lexer": "ipython3",
   "version": "3.9.12"
  }
 },
 "nbformat": 4,
 "nbformat_minor": 5
}
